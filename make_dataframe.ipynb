{
 "cells": [
  {
   "cell_type": "markdown",
   "metadata": {},
   "source": [
    "# EDA\n",
    "## cleaning data: test에 없는 정보 삭제"
   ]
  },
  {
   "cell_type": "code",
   "execution_count": 23,
   "metadata": {},
   "outputs": [],
   "source": [
    "import matplotlib.pyplot as plt\n",
    "import pandas as pd\n",
    "from sklearn.model_selection import train_test_split\n",
    "from xgboost import XGBClassifier\n",
    "import numpy as np\n",
    "from sklearn.preprocessing import LabelEncoder\n",
    "import pickle\n",
    "%matplotlib inline\n",
    "\n",
    "df = pd.read_csv(\"train.csv\")\n",
    "test = pd.read_csv(\"test.csv\")\n",
    "\n",
    "c = df['DepartmentDescription'].isin(test['DepartmentDescription'])\n",
    "c2 = df['Upc'].isin(test['Upc'])\n",
    "c3 = df['FinelineNumber'].isin(test['FinelineNumber'])\n",
    "\n",
    "# test에 없는 데이터 삭제\n",
    "df = df[c&c2&c3]\n",
    "\n",
    "# fill na: 여기서는 카테고리값 -> 임의로 \"0.11 카테고리\"로 지정\n",
    "df['FinelineNumber'] = df['FinelineNumber'].fillna(0.11)\n",
    "test['FinelineNumber'] = test['FinelineNumber'].fillna(0.11)\n",
    "\n",
    "df['Upc'] = df['Upc'].fillna(0.11)\n",
    "test['Upc'] = test['Upc'].fillna(0.11)\n",
    "\n",
    "df['DepartmentDescription']= df['DepartmentDescription'].fillna(0.11)\n",
    "test['DepartmentDescription'] = test['DepartmentDescription'].fillna(0.11)"
   ]
  },
  {
   "cell_type": "code",
   "execution_count": 22,
   "metadata": {},
   "outputs": [
    {
     "name": "stdout",
     "output_type": "stream",
     "text": [
      "159\n",
      "151\n"
     ]
    }
   ],
   "source": [
    "#original\n",
    "## test 중 df에 없는것\n",
    "print(len(np.where(~np.isin(test['FinelineNumber'].unique(), df['FinelineNumber'].unique()))[0]))\n",
    "## df 중 test에 없는것\n",
    "print(len(np.where(~np.isin(df['FinelineNumber'].unique(), test['FinelineNumber'].unique()))[0]))"
   ]
  },
  {
   "cell_type": "code",
   "execution_count": 24,
   "metadata": {},
   "outputs": [
    {
     "name": "stdout",
     "output_type": "stream",
     "text": [
      "322\n",
      "0\n"
     ]
    }
   ],
   "source": [
    "#original\n",
    "## test 중 df에 없는것\n",
    "## df 중 test에 없는것\n",
    "print(len(np.where(~np.isin(test['FinelineNumber'].unique(), df['FinelineNumber'].unique()))[0]))\n",
    "print(len(np.where(~np.isin(df['FinelineNumber'].unique(), test['FinelineNumber'].unique()))[0]))"
   ]
  },
  {
   "cell_type": "code",
   "execution_count": 20,
   "metadata": {
    "scrolled": true
   },
   "outputs": [
    {
     "name": "stdout",
     "output_type": "stream",
     "text": [
      "26980\n",
      "26547\n"
     ]
    }
   ],
   "source": [
    "#original\n",
    "## test 중 df에 없는 것\n",
    "print(len(np.where(~np.isin(test['Upc'].unique(), df['Upc'].unique()))[0]))\n",
    "## df 중 test에 없는 것\n",
    "print(len(np.where(~np.isin(df['Upc'].unique(), test['Upc'].unique()))[0]))"
   ]
  },
  {
   "cell_type": "code",
   "execution_count": 25,
   "metadata": {},
   "outputs": [
    {
     "name": "stdout",
     "output_type": "stream",
     "text": [
      "26980\n",
      "0\n"
     ]
    }
   ],
   "source": [
    "#original\n",
    "## test 중 df에 없는 것\n",
    "print(len(np.where(~np.isin(test['Upc'].unique(), df['Upc'].unique()))[0]))\n",
    "## df 중 test에 없는 것\n",
    "print(len(np.where(~np.isin(df['Upc'].unique(), test['Upc'].unique()))[0]))"
   ]
  },
  {
   "cell_type": "markdown",
   "metadata": {},
   "source": [
    "# 1. Basic DataFrame\n",
    "## 구매수량, 방문요일, 방문코너 갯수, 환불횟수"
   ]
  },
  {
   "cell_type": "code",
   "execution_count": 3,
   "metadata": {},
   "outputs": [
    {
     "data": {
      "text/plain": [
       "(array([], dtype=int64),)"
      ]
     },
     "execution_count": 3,
     "metadata": {},
     "output_type": "execute_result"
    }
   ],
   "source": [
    "frame_day = pd.get_dummies(df['Weekday'])\n",
    "frame_day['VisitNumber'] = df['VisitNumber']\n",
    "frame_day = frame_day.drop_duplicates('VisitNumber').set_index('VisitNumber')\n",
    "\n",
    "frame_day_test = pd.get_dummies(test['Weekday'])\n",
    "frame_day_test['VisitNumber'] = test['VisitNumber']\n",
    "frame_day_test = frame_day_test.drop_duplicates('VisitNumber').set_index('VisitNumber')\n",
    "\n",
    "np.where(frame_day.columns != frame_day_test.columns)"
   ]
  },
  {
   "cell_type": "code",
   "execution_count": 5,
   "metadata": {},
   "outputs": [
    {
     "data": {
      "text/plain": [
       "(93213, 95674)"
      ]
     },
     "execution_count": 5,
     "metadata": {},
     "output_type": "execute_result"
    }
   ],
   "source": [
    "frame_num_item = df.groupby('VisitNumber').agg(sum)['ScanCount']\n",
    "frame_num_item_test = test.groupby('VisitNumber').agg(sum)['ScanCount']\n",
    "\n",
    "len(frame_num_item), len(frame_num_item_test)"
   ]
  },
  {
   "cell_type": "code",
   "execution_count": 7,
   "metadata": {},
   "outputs": [
    {
     "data": {
      "text/plain": [
       "(93213, 95674)"
      ]
     },
     "execution_count": 7,
     "metadata": {},
     "output_type": "execute_result"
    }
   ],
   "source": [
    "df['v_dept'] = 1\n",
    "test['v_dept'] = 1\n",
    "frame_visit_num = df.groupby('VisitNumber').agg(sum)['v_dept']\n",
    "frame_visit_num_test = test.groupby('VisitNumber').agg(sum)['v_dept']\n",
    "\n",
    "len(frame_visit_num), len(frame_visit_num_test)"
   ]
  },
  {
   "cell_type": "code",
   "execution_count": 25,
   "metadata": {},
   "outputs": [
    {
     "data": {
      "text/plain": [
       "(93213, 95674)"
      ]
     },
     "execution_count": 25,
     "metadata": {},
     "output_type": "execute_result"
    }
   ],
   "source": [
    "df['return'] = 0\n",
    "c = df['ScanCount'] < 0\n",
    "df.loc[c, 'return'] = 1\n",
    "frame_return = df[['VisitNumber', 'return']].drop_duplicates('VisitNumber').set_index('VisitNumber')\n",
    "\n",
    "test['return'] = 0\n",
    "c = test['ScanCount'] < 0\n",
    "test.loc[c, 'return'] = 1\n",
    "frame_return_test = test[['VisitNumber', 'return']].drop_duplicates('VisitNumber').set_index('VisitNumber')\n",
    "\n",
    "len(frame_return), len(frame_return_test)"
   ]
  },
  {
   "cell_type": "markdown",
   "metadata": {},
   "source": [
    "- train"
   ]
  },
  {
   "cell_type": "code",
   "execution_count": 9,
   "metadata": {},
   "outputs": [],
   "source": [
    "frame_day=frame_day\\\n",
    ".merge(frame_num_item, left_index=True, right_index=True)\\\n",
    ".merge(frame_visit_num, left_index=True, right_index=True)\\\n",
    ".merge(frame_return, left_index=True, right_index=True)\n",
    "\n",
    "frame_day.to_pickle('frame_feature_basic.pkl')"
   ]
  },
  {
   "cell_type": "markdown",
   "metadata": {},
   "source": [
    "- test"
   ]
  },
  {
   "cell_type": "code",
   "execution_count": 11,
   "metadata": {},
   "outputs": [],
   "source": [
    "frame_day_test=frame_day_test\\\n",
    ".merge(frame_num_item_test, left_index=True, right_index=True)\\\n",
    ".merge(frame_visit_num_test, left_index=True, right_index=True)\\\n",
    ".merge(frame_return_test, left_index=True, right_index=True)\n",
    "\n",
    "frame_day_test.to_pickle('frame_feature_basic_test.pkl')"
   ]
  },
  {
   "cell_type": "markdown",
   "metadata": {},
   "source": [
    "# FinelineNumber PCA\n",
    "## 5000 개 -> 1700 개로 축소"
   ]
  },
  {
   "cell_type": "code",
   "execution_count": null,
   "metadata": {},
   "outputs": [],
   "source": [
    "import numpy as np\n",
    "from sklearn.decomposition import PCA\n",
    "df_pivot = df.pivot_table(values='ScanCount', index='VisitNumber', columns='FinelineNumber').fillna(0)\n",
    "\n",
    "df_pivot_test = test.pivot_table(values='ScanCount', index='VisitNumber', columns='FinelineNumber').fillna(0)\n",
    "col = df_pivot.columns\n",
    "df_pivot_test = df_pivot_test[col]\n",
    "\n",
    "pca = PCA()\n",
    "pca.fit(df_pivot)"
   ]
  },
  {
   "cell_type": "code",
   "execution_count": 18,
   "metadata": {},
   "outputs": [
    {
     "data": {
      "text/plain": [
       "array([0.91499434, 0.91509433, 0.91519404, ..., 1.        , 1.        ,\n",
       "       1.        ])"
      ]
     },
     "execution_count": 18,
     "metadata": {},
     "output_type": "execute_result"
    },
    {
     "data": {
      "image/png": "[encoded data removed]",
      "text/plain": [
       "<Figure size 432x288 with 1 Axes>"
      ]
     },
     "metadata": {
      "needs_background": "light"
     },
     "output_type": "display_data"
    }
   ],
   "source": [
    "plt.plot(np.cumsum(pca.explained_variance_ratio_))\n",
    "np.cumsum(pca.explained_variance_ratio_)[1700:]"
   ]
  },
  {
   "cell_type": "code",
   "execution_count": null,
   "metadata": {},
   "outputs": [],
   "source": [
    "df_low = pca.transform(df_pivot)\n",
    "col = ['f' + str(i) for i in range(n_com)]\n",
    "idx = df_pivot.index\n",
    "df_low = pd.DataFrame(df_low, index=idx, columns=col)\n",
    "df_low.to_pickle('pca_fine_low.pkl')"
   ]
  },
  {
   "cell_type": "code",
   "execution_count": null,
   "metadata": {},
   "outputs": [],
   "source": [
    "df_low_test = pca.transform(df_pivot_test)\n",
    "col = ['f' + str(i) for i in range(n_com)]\n",
    "idx = df_pivot_test.index\n",
    "df_low_test = pd.DataFrame(df_low_test, index=idx, columns=col)\n",
    "df_low_test.to_pickle('pca_fine_low_test.pkl')"
   ]
  },
  {
   "cell_type": "markdown",
   "metadata": {},
   "source": [
    "# dept PCA\n",
    "## 67개 -> 52개"
   ]
  },
  {
   "cell_type": "code",
   "execution_count": null,
   "metadata": {},
   "outputs": [],
   "source": [
    "df_pivot = df.pivot_table(values='ScanCount', index='VisitNumber', columns='FinelineNumber').fillna(0)\n",
    "\n",
    "df_pivot_test = test.pivot_table(values='ScanCount', index='VisitNumber', columns='FinelineNumber').fillna(0)\n",
    "col = df_pivot.columns\n",
    "df_pivot_test = df_pivot_test[col]\n",
    "\n",
    "pca = PCA()\n",
    "pca.fit(df_pivot)"
   ]
  },
  {
   "cell_type": "code",
   "execution_count": null,
   "metadata": {},
   "outputs": [],
   "source": [
    "plt.plot(np.cumsum(pca.explained_variance_ratio_))\n",
    "np.cumsum(pca.explained_variance_ratio_)[1700:]"
   ]
  },
  {
   "cell_type": "code",
   "execution_count": null,
   "metadata": {},
   "outputs": [],
   "source": [
    "df_low = pca.transform(df_pivot)\n",
    "col = ['f' + str(i) for i in range(n_com)]\n",
    "idx = df_pivot.index\n",
    "df_low = pd.DataFrame(df_low, index=idx, columns=col)\n",
    "df_low.to_pickle('pca_fine_low.pkl')"
   ]
  },
  {
   "cell_type": "code",
   "execution_count": null,
   "metadata": {},
   "outputs": [],
   "source": [
    "df_low_test = pca.transform(df_pivot_test)\n",
    "col = ['f' + str(i) for i in range(n_com)]\n",
    "idx = df_pivot_test.index\n",
    "df_low_test = pd.DataFrame(df_low_test, index=idx, columns=col)\n",
    "df_low_test.to_pickle('pca_fine_low_test.pkl')"
   ]
  },
  {
   "cell_type": "markdown",
   "metadata": {},
   "source": [
    "# Select fine by PFA(Principal Feature Analysis)\n",
    "- 5000- > 972개 components로 extraction\n",
    "- 원래 feature를 clustering, centroid에서 가까운 3개 추려냄"
   ]
  },
  {
   "cell_type": "code",
   "execution_count": null,
   "metadata": {},
   "outputs": [],
   "source": [
    "import numpy as np\n",
    "from sklearn.decomposition import PCA\n",
    "from sklearn.preprocessing import LabelEncoder\n",
    "from sklearn.cluster import KMeans\n",
    "\n",
    "df_pivot = df.pivot_table(values='ScanCount', index='VisitNumber', columns='FinelineNumber').fillna(0)\n",
    "pca = PCA()\n",
    "pca.fit(df_pivot)"
   ]
  },
  {
   "cell_type": "code",
   "execution_count": null,
   "metadata": {},
   "outputs": [],
   "source": [
    "plt.plot(np.cumsum(pca.explained_variance_ratio_))\n",
    "np.cumsum(pca.explained_variance_ratio_)\n",
    "\n",
    "plt.axvline(972)\n",
    "np.where(np.cumsum(pca.explained_variance_ratio_) > 0.8)"
   ]
  },
  {
   "cell_type": "code",
   "execution_count": null,
   "metadata": {},
   "outputs": [],
   "source": [
    "# origian FinelineNumber는 components를 feature로 가지는 벡터가 됨\n",
    "feat = df_pivot.columns\n",
    "com = abs(pca.components_)\n",
    "com = pd.DataFrame(com.T, index=feat)"
   ]
  },
  {
   "cell_type": "code",
   "execution_count": null,
   "metadata": {},
   "outputs": [],
   "source": [
    "k = KMeans(n_clusters=972, random_state=1)\n",
    "k.fit(com)\n",
    "com['label'] = k.labels_"
   ]
  },
  {
   "cell_type": "code",
   "execution_count": null,
   "metadata": {},
   "outputs": [],
   "source": [
    "# 각 클러스터의 중심을 찾음\n",
    "center_dict = {label: np.array(vector) for vector, label in zip(k.cluster_centers_,range(972))}"
   ]
  },
  {
   "cell_type": "code",
   "execution_count": null,
   "metadata": {},
   "outputs": [],
   "source": [
    "# 각 중심과 유클리디안 거리계산\n",
    "def get_dist(row):\n",
    "    label = row['label']\n",
    "    center = center_dict[label]\n",
    "    v1 = row.values[:-1]\n",
    "    dist = np.linalg.norm(center-v1)\n",
    "    return dist\n",
    "com['dist'] = com.apply(get_dist, axis=1)"
   ]
  },
  {
   "cell_type": "code",
   "execution_count": null,
   "metadata": {},
   "outputs": [],
   "source": [
    "# 각 클러스터에서 중심과 가까운 3개씩 feature select\n",
    "selected = list(com.sort_values(['label', 'dist']).groupby('label').head(3).index)\n",
    "with open('selected_fine.pkl', 'wb') as f:\n",
    "    pickle.dump(selected, f)"
   ]
  },
  {
   "cell_type": "markdown",
   "metadata": {},
   "source": [
    "- selected FinelineNumber로 df 생성"
   ]
  },
  {
   "cell_type": "code",
   "execution_count": null,
   "metadata": {},
   "outputs": [],
   "source": [
    "with open('selected_fine.pkl', 'rb') as f:\n",
    "    selected = pickle.load(f)\n",
    "    \n",
    "df1 = df.copy()\n",
    "test1 = test.copy()\n",
    "\n",
    "# 맨 처음에 na값을 0.11로 카테고리화 했으므로,\n",
    "# 이번에는 0.12는 임의로 지정\n",
    "c = ~df1['FinelineNumber'].isin(selected)\n",
    "df1.loc[c, 'FinelineNumber'] = 0.12\n",
    "\n",
    "c = ~test1['FinelineNumber'].isin(selected)\n",
    "test1.loc[c, 'FinelineNumber'] = 0.12\n",
    "\n",
    "# 정합성 체크\n",
    "np.where(np.unique(test1['FinelineNumber'].unique()) != np.unique(df1['FinelineNumber'].unique()))"
   ]
  },
  {
   "cell_type": "code",
   "execution_count": null,
   "metadata": {},
   "outputs": [],
   "source": [
    "# FinelineNumber 라벨 변경\n",
    "lb_fine = LabelEncoder()\n",
    "df1['FinelineNumber'] = lb_fine.fit_transform(df1['FinelineNumber'])\n",
    "test1['FinelineNumber'] = lb_fine.transform(test1['FinelineNumber'])\n",
    "\n",
    "# label fit\n",
    "selected = lb_fine.transform(selected)\n",
    "\n",
    "# 여기서 0은 카테고리가 아니라, value 0\n",
    "df_pivot1 = df1.pivot_table(index='VisitNumber', columns='FinelineNumber', values='ScanCount', aggfunc=sum).fillna(0)\n",
    "df_pivot_test1 = test1.pivot_table(index='VisitNumber', columns='FinelineNumber', values='ScanCount', aggfunc=sum).fillna(0)\n",
    "\n",
    "df_pivot1 = df_pivot1[selected]\n",
    "df_pivot_test1 = df_pivot_test1[selected]\n",
    "\n",
    "np.where(df_pivot1.columns != df_pivot_test1.columns)"
   ]
  },
  {
   "cell_type": "code",
   "execution_count": null,
   "metadata": {},
   "outputs": [],
   "source": [
    "frame_train_fine_pca = df_pivot1\n",
    "frame_test_fine_pca = df_pivot_test1\n",
    "\n",
    "# column 복원\n",
    "frame_train_fine_pca.columns = lb_fine.inverse_transform(frame_train_fine_pca.columns)\n",
    "frame_test_fine_pca.columns = lb_fine.inverse_transform(frame_test_fine_pca.columns)\n",
    "\n",
    "np.where(frame_test_fine_pca.columns != frame_train_fine_pca.columns)"
   ]
  },
  {
   "cell_type": "code",
   "execution_count": null,
   "metadata": {},
   "outputs": [],
   "source": [
    "frame_train_fine_pca.to_pickle('frame_fine_kmeans_uni.pkl')\n",
    "frame_test_fine_pca.to_pickle('frame_fine_kmeans_uni_test.pkl')"
   ]
  }
 ],
 "metadata": {
  "kernelspec": {
   "display_name": "Python 3",
   "language": "python",
   "name": "python3"
  },
  "language_info": {
   "codemirror_mode": {
    "name": "ipython",
    "version": 3
   },
   "file_extension": ".py",
   "mimetype": "text/x-python",
   "name": "python",
   "nbconvert_exporter": "python",
   "pygments_lexer": "ipython3",
   "version": "3.7.3"
  }
 },
 "nbformat": 4,
 "nbformat_minor": 2
}
