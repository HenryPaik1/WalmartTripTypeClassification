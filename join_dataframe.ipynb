{
 "cells": [
  {
   "cell_type": "markdown",
   "metadata": {},
   "source": [
    "# EDA\n",
    "## cleaning data: test에 없는 정보 삭제"
   ]
  },
  {
   "cell_type": "code",
   "execution_count": 10,
   "metadata": {},
   "outputs": [],
   "source": [
    "df = pd.read_csv(\"train.csv\")\n",
    "test = pd.read_csv(\"test.csv\")"
   ]
  },
  {
   "cell_type": "code",
   "execution_count": 23,
   "metadata": {},
   "outputs": [],
   "source": [
    "import pandas as pd\n",
    "from sklearn.model_selection import train_test_split\n",
    "from xgboost import XGBClassifier\n",
    "import numpy as np\n",
    "from sklearn.preprocessing import LabelEncoder\n",
    "import pickle\n",
    "\n",
    "df = pd.read_csv(\"train.csv\")\n",
    "test = pd.read_csv(\"test.csv\")\n",
    "\n",
    "c = df['DepartmentDescription'].isin(test['DepartmentDescription'])\n",
    "c2 = df['Upc'].isin(test['Upc'])\n",
    "c3 = df['FinelineNumber'].isin(test['FinelineNumber'])\n",
    "\n",
    "# test에 없는 데이터 삭제\n",
    "df = df[c&c2&c3]\n",
    "\n",
    "# fill na: 여기서는 카테고리값 -> 임의로 \"0.11 카테고리\"로 지정\n",
    "df['FinelineNumber'] = df['FinelineNumber'].fillna(0.11)\n",
    "test['FinelineNumber'] = test['FinelineNumber'].fillna(0.11)\n",
    "\n",
    "df['Upc'] = df['Upc'].fillna(0.11)\n",
    "test['Upc'] = test['Upc'].fillna(0.11)\n",
    "\n",
    "df['DepartmentDescription']= df['DepartmentDescription'].fillna(0.11)\n",
    "test['DepartmentDescription'] = test['DepartmentDescription'].fillna(0.11)"
   ]
  },
  {
   "cell_type": "code",
   "execution_count": 22,
   "metadata": {},
   "outputs": [
    {
     "name": "stdout",
     "output_type": "stream",
     "text": [
      "159\n",
      "151\n"
     ]
    }
   ],
   "source": [
    "#original\n",
    "## test 중 df에 없는것\n",
    "print(len(np.where(~np.isin(test['FinelineNumber'].unique(), df['FinelineNumber'].unique()))[0]))\n",
    "## df 중 test에 없는것\n",
    "print(len(np.where(~np.isin(df['FinelineNumber'].unique(), test['FinelineNumber'].unique()))[0]))"
   ]
  },
  {
   "cell_type": "code",
   "execution_count": 24,
   "metadata": {},
   "outputs": [
    {
     "name": "stdout",
     "output_type": "stream",
     "text": [
      "322\n",
      "0\n"
     ]
    }
   ],
   "source": [
    "#original\n",
    "## test 중 df에 없는것\n",
    "## df 중 test에 없는것\n",
    "print(len(np.where(~np.isin(test['FinelineNumber'].unique(), df['FinelineNumber'].unique()))[0]))\n",
    "print(len(np.where(~np.isin(df['FinelineNumber'].unique(), test['FinelineNumber'].unique()))[0]))"
   ]
  },
  {
   "cell_type": "code",
   "execution_count": 20,
   "metadata": {
    "scrolled": true
   },
   "outputs": [
    {
     "name": "stdout",
     "output_type": "stream",
     "text": [
      "26980\n",
      "26547\n"
     ]
    }
   ],
   "source": [
    "#original\n",
    "## test 중 df에 없는 것\n",
    "print(len(np.where(~np.isin(test['Upc'].unique(), df['Upc'].unique()))[0]))\n",
    "## df 중 test에 없는 것\n",
    "print(len(np.where(~np.isin(df['Upc'].unique(), test['Upc'].unique()))[0]))"
   ]
  },
  {
   "cell_type": "code",
   "execution_count": 25,
   "metadata": {},
   "outputs": [
    {
     "name": "stdout",
     "output_type": "stream",
     "text": [
      "26980\n",
      "0\n"
     ]
    }
   ],
   "source": [
    "#original\n",
    "## test 중 df에 없는 것\n",
    "print(len(np.where(~np.isin(test['Upc'].unique(), df['Upc'].unique()))[0]))\n",
    "## df 중 test에 없는 것\n",
    "print(len(np.where(~np.isin(df['Upc'].unique(), test['Upc'].unique()))[0]))"
   ]
  },
  {
   "cell_type": "markdown",
   "metadata": {},
   "source": [
    "# Join DataFrame"
   ]
  },
  {
   "cell_type": "markdown",
   "metadata": {},
   "source": [
    "## train"
   ]
  },
  {
   "cell_type": "markdown",
   "metadata": {},
   "source": [
    "- join extra info"
   ]
  },
  {
   "cell_type": "code",
   "execution_count": null,
   "metadata": {},
   "outputs": [],
   "source": [
    "import pandas as pd\n",
    "# label data\n",
    "temp = df[['VisitNumber', 'TripType']].drop_duplicates('VisitNumber')\n",
    "temp = temp.set_index('VisitNumber')\n",
    "temp = pd.read_pickle('temp_merge.pkl')"
   ]
  },
  {
   "cell_type": "code",
   "execution_count": 2,
   "metadata": {},
   "outputs": [],
   "source": [
    "frame_train_fine_pca = pd.read_pickle('pca_fine_low.pkl')\n",
    "frame_train_fine_kmeans = pd.read_pickle('frame_fine_kmeans_uni.pkl')\n",
    "frame_dept = pd.read_pickle('frame_pca_dept.pkl')"
   ]
  },
  {
   "cell_type": "code",
   "execution_count": 3,
   "metadata": {},
   "outputs": [],
   "source": [
    "frame_join = frame_dept\\\n",
    ".merge(frame_train_fine_pca, right_index=True, left_index=True)\\\n",
    ".merge(frame_train_fine_kmeans, right_index=True, left_index=True)"
   ]
  },
  {
   "cell_type": "code",
   "execution_count": 4,
   "metadata": {},
   "outputs": [],
   "source": [
    "# TripType 추가\n",
    "frame_join = frame_join\\\n",
    ".merge(temp, right_index=True, left_on='VisitNumber')"
   ]
  },
  {
   "cell_type": "markdown",
   "metadata": {},
   "source": [
    "- join basic info"
   ]
  },
  {
   "cell_type": "code",
   "execution_count": 5,
   "metadata": {},
   "outputs": [],
   "source": [
    "frame_day = pd.read_pickle('frame_feature_basic.pkl')\n",
    "frame_join = frame_join\\\n",
    ".merge(frame_day, left_index=True, right_index=True)"
   ]
  },
  {
   "cell_type": "markdown",
   "metadata": {},
   "source": [
    "- 최종 데이터"
   ]
  },
  {
   "cell_type": "code",
   "execution_count": 6,
   "metadata": {},
   "outputs": [],
   "source": [
    "frame_join.to_pickle('join_second_basic.pkl')"
   ]
  },
  {
   "cell_type": "code",
   "execution_count": 7,
   "metadata": {},
   "outputs": [
    {
     "data": {
      "text/plain": [
       "(4195, 93213)"
      ]
     },
     "execution_count": 7,
     "metadata": {},
     "output_type": "execute_result"
    }
   ],
   "source": [
    "len(frame_join.columns), len(frame_join)"
   ]
  },
  {
   "cell_type": "markdown",
   "metadata": {},
   "source": [
    "## test"
   ]
  },
  {
   "cell_type": "markdown",
   "metadata": {},
   "source": [
    "- join extra info"
   ]
  },
  {
   "cell_type": "code",
   "execution_count": 8,
   "metadata": {},
   "outputs": [],
   "source": [
    "import pandas as pd\n",
    "frame_test_fine_pca = pd.read_pickle('pca_fine_low_test.pkl')\n",
    "frame_test_fine_kmeans = pd.read_pickle('frame_fine_kmeans_uni_test.pkl')\n",
    "frame_dept_test = pd.read_pickle('frame_pca_dept_test.pkl')"
   ]
  },
  {
   "cell_type": "code",
   "execution_count": 9,
   "metadata": {},
   "outputs": [],
   "source": [
    "frame_join_test = frame_dept_test\\\n",
    ".merge(frame_test_fine_pca, right_index=True, left_index=True)\\\n",
    ".merge(frame_test_fine_kmeans, right_index=True, left_index=True)"
   ]
  },
  {
   "cell_type": "markdown",
   "metadata": {},
   "source": [
    "- join basic info"
   ]
  },
  {
   "cell_type": "code",
   "execution_count": 10,
   "metadata": {},
   "outputs": [],
   "source": [
    "frame_day_test = pd.read_pickle('frame_feature_basic_test.pkl')\n",
    "\n",
    "frame_join_test = frame_join_test\\\n",
    ".merge(frame_day_test, left_index=True, right_index=True)\\"
   ]
  },
  {
   "cell_type": "markdown",
   "metadata": {},
   "source": [
    "- 최종 데이터"
   ]
  },
  {
   "cell_type": "code",
   "execution_count": 11,
   "metadata": {},
   "outputs": [],
   "source": [
    "frame_join_test.to_pickle('join_second_basic_test.pkl')"
   ]
  },
  {
   "cell_type": "code",
   "execution_count": 12,
   "metadata": {},
   "outputs": [
    {
     "data": {
      "text/plain": [
       "(4194, 95674)"
      ]
     },
     "execution_count": 12,
     "metadata": {},
     "output_type": "execute_result"
    }
   ],
   "source": [
    "len(frame_join_test.columns), len(frame_join_test)"
   ]
  },
  {
   "cell_type": "markdown",
   "metadata": {},
   "source": [
    "# 추가적인 Join"
   ]
  },
  {
   "cell_type": "code",
   "execution_count": 1,
   "metadata": {},
   "outputs": [],
   "source": [
    "import pandas as pd\n",
    "frame_join = pd.read_pickle('join_second_basic_upc.pkl')\n",
    "#frame_join_test = pd.read_pickle('join_second_basic_upc_test.pkl')"
   ]
  },
  {
   "cell_type": "code",
   "execution_count": 2,
   "metadata": {},
   "outputs": [],
   "source": [
    "extra = pd.read_pickle('frame_upc_num.pkl')\n",
    "#extra_test = pd.read_pickle('frame_upc_num_test.pkl')"
   ]
  },
  {
   "cell_type": "code",
   "execution_count": 3,
   "metadata": {},
   "outputs": [],
   "source": [
    "frame_join = frame_join.merge(extra, right_index=True, left_index=True)\n",
    "#frame_join_test = frame_join_test.merge(extra_test, right_index=True, left_index=True)"
   ]
  },
  {
   "cell_type": "code",
   "execution_count": 4,
   "metadata": {
    "scrolled": true
   },
   "outputs": [],
   "source": [
    "frame_join.to_pickle('join_all_upc_num.pkl')\n",
    "#frame_join_test.to_pickle('join_all_upc_num_test.pkl')"
   ]
  }
 ],
 "metadata": {
  "kernelspec": {
   "display_name": "Python 3",
   "language": "python",
   "name": "python3"
  },
  "language_info": {
   "codemirror_mode": {
    "name": "ipython",
    "version": 3
   },
   "file_extension": ".py",
   "mimetype": "text/x-python",
   "name": "python",
   "nbconvert_exporter": "python",
   "pygments_lexer": "ipython3",
   "version": "3.7.3"
  }
 },
 "nbformat": 4,
 "nbformat_minor": 2
}
